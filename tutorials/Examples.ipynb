{
 "cells": [
  {
   "cell_type": "code",
   "execution_count": 103,
   "id": "314032ad",
   "metadata": {},
   "outputs": [],
   "source": [
    "import numpy as np\n",
    "import matplotlib.pyplot as plt"
   ]
  },
  {
   "cell_type": "markdown",
   "id": "b4375049",
   "metadata": {},
   "source": [
    " # skyrms2010signals_fig1-1"
   ]
  },
  {
   "cell_type": "markdown",
   "id": "3b9842b7",
   "metadata": {},
   "source": [
    "We import  the `asymmetric_games` module, which is the one that has the `Chance`class. We use this class to set up games with a chance player (\"nature\")."
   ]
  },
  {
   "cell_type": "code",
   "execution_count": 3,
   "id": "004c886a",
   "metadata": {},
   "outputs": [],
   "source": [
    "from skyrms import asymmetric_games as asy"
   ]
  },
  {
   "cell_type": "markdown",
   "id": "d8d3f97d",
   "metadata": {},
   "source": [
    "In order to instantiate the `Chance` class we need probabilities for the chance player, sender and receiver payoff matrices, and the number of available messages."
   ]
  },
  {
   "cell_type": "code",
   "execution_count": 5,
   "id": "1658742b",
   "metadata": {},
   "outputs": [],
   "source": [
    "states = np.array([.5, .5])\n",
    "sender_payoff_matrix = np.eye(2)\n",
    "receiver_payoff_matrix = np.eye(2)\n",
    "messages = 2"
   ]
  },
  {
   "cell_type": "code",
   "execution_count": 6,
   "id": "62325e3d",
   "metadata": {},
   "outputs": [],
   "source": [
    "lewis22 = asy.Chance(states, sender_payoff_matrix, receiver_payoff_matrix, messages)"
   ]
  },
  {
   "cell_type": "markdown",
   "id": "89756080",
   "metadata": {},
   "source": [
    "Now, in order to evolve this game, we need to decide which sender and receiver strategies we are going to use.\n",
    "A common choice would be all pure strategies. For example, for the sender:"
   ]
  },
  {
   "cell_type": "code",
   "execution_count": 8,
   "id": "d4d81c77",
   "metadata": {},
   "outputs": [
    {
     "data": {
      "text/plain": [
       "array([[[1., 0.],\n",
       "        [1., 0.]],\n",
       "\n",
       "       [[1., 0.],\n",
       "        [0., 1.]],\n",
       "\n",
       "       [[0., 1.],\n",
       "        [1., 0.]],\n",
       "\n",
       "       [[0., 1.],\n",
       "        [0., 1.]]])"
      ]
     },
     "execution_count": 8,
     "metadata": {},
     "output_type": "execute_result"
    }
   ],
   "source": [
    "lewis22.sender_pure_strats()"
   ]
  },
  {
   "cell_type": "markdown",
   "id": "eef2f002",
   "metadata": {},
   "source": [
    "And ditto for the receiver. But, for this example, Skyrms (2010, p. 10) only wants to consider non-pooling strategies (those for which senders send different signals for different states, and receivers perform different acts for different signals). So, we take pooling strategies out:"
   ]
  },
  {
   "cell_type": "code",
   "execution_count": 11,
   "id": "a2c0c982",
   "metadata": {},
   "outputs": [],
   "source": [
    "sender_strats = lewis22.sender_pure_strats()[1:-1]\n",
    "receiver_strats = lewis22.receiver_pure_strats()[1:-1]"
   ]
  },
  {
   "cell_type": "markdown",
   "id": "0c4b08ae",
   "metadata": {},
   "source": [
    "OK, now we need to evolve this, using a two-population replicator dynamics. This is in the `evolve` module."
   ]
  },
  {
   "cell_type": "code",
   "execution_count": 13,
   "id": "cc3ee0aa",
   "metadata": {},
   "outputs": [],
   "source": [
    "from skyrms.evolve import TwoPops"
   ]
  },
  {
   "cell_type": "code",
   "execution_count": 14,
   "id": "274ce881",
   "metadata": {},
   "outputs": [],
   "source": [
    "two_pop = TwoPops(lewis22, sender_strats, receiver_strats)"
   ]
  },
  {
   "cell_type": "markdown",
   "id": "c9fc0519",
   "metadata": {},
   "source": [
    "We can do a bunch of things with this object, but right now what we want to do is take a bunch of proportions of sender strategies, and proportions of receiver strategies, and evolve them one discrete step, then plot the result."
   ]
  },
  {
   "cell_type": "markdown",
   "id": "39a32753",
   "metadata": {},
   "source": [
    "`two_pop` can generate a random sender (receiver) frequency vector:"
   ]
  },
  {
   "cell_type": "code",
   "execution_count": 35,
   "id": "cfb9ad25",
   "metadata": {},
   "outputs": [],
   "source": [
    "rand_sender = two_pop.random_sender()\n",
    "rand_receiver = two_pop.random_receiver()"
   ]
  },
  {
   "cell_type": "markdown",
   "id": "f24345d7",
   "metadata": {},
   "source": [
    "... and then evolve these frequencies using the replicator dynamics:"
   ]
  },
  {
   "cell_type": "code",
   "execution_count": 55,
   "id": "2dcf6f0a",
   "metadata": {},
   "outputs": [
    {
     "data": {
      "text/plain": [
       "array([0.0026, 0.9974, 0.0026, 0.9974])"
      ]
     },
     "execution_count": 55,
     "metadata": {},
     "output_type": "execute_result"
    }
   ],
   "source": [
    "# There's this weird thing that I keep concatenating and dividing the vector of sender and receiver freqs.\n",
    "# I don't remember why I did that, but it's something to look into.\n",
    "two_pop.discrete_replicator_delta_X(np.concatenate((rand_sender, rand_receiver)))"
   ]
  },
  {
   "cell_type": "markdown",
   "id": "137a4d32",
   "metadata": {},
   "source": [
    "But we want our frequencies to be neatly spaced in a 15x15 grid (in order to replicate Skyrms's figure)"
   ]
  },
  {
   "cell_type": "code",
   "execution_count": 98,
   "id": "3c33135f",
   "metadata": {},
   "outputs": [],
   "source": [
    "freqs = np.linspace(0.01, .99, 15)\n",
    "# This below just adds the complementary to 1 to each value, \n",
    "# so that we have a full freq vector\n",
    "senders = np.vstack((freqs, 1 - freqs)).T \n",
    "receivers = np.vstack((freqs, 1 - freqs)).T"
   ]
  },
  {
   "cell_type": "markdown",
   "id": "306c99a6",
   "metadata": {},
   "source": [
    "In order to draw our vector field, we need velocities.\n",
    "\n",
    "Thas is to say, a function that takes \n",
    "\n",
    "1. the frequency of the first sender strategy, and \n",
    "2. the frequency of the first receiver strategy\n",
    "\n",
    "and returns\n",
    "\n",
    "1. the change in frequency of the first sender strategy\n",
    "2. the change in frequency of the second sender strategy\n",
    "\n",
    "This function is not in the `skyrms` library. Should it?"
   ]
  },
  {
   "cell_type": "code",
   "execution_count": 128,
   "id": "8b580f15",
   "metadata": {},
   "outputs": [],
   "source": [
    "def uv_from_xy(x, y):\n",
    "    senders = np.array([x, 1 - x])\n",
    "    receivers = np.array([y, 1 - y])\n",
    "    new_pop_vector = two_pop.discrete_replicator_delta_X(np.concatenate((senders, receivers)))\n",
    "    new_senders, new_receivers = two_pop.vector_to_populations(new_pop_vector)\n",
    "    return x - new_senders[0], y - new_receivers[0]"
   ]
  },
  {
   "cell_type": "markdown",
   "id": "6dc6842a",
   "metadata": {},
   "source": [
    "And now we just use `matplotlib.pyplot.quiver`"
   ]
  },
  {
   "cell_type": "code",
   "execution_count": 117,
   "id": "13583bc7",
   "metadata": {},
   "outputs": [],
   "source": [
    "X, Y = np.meshgrid(freqs, freqs)"
   ]
  },
  {
   "cell_type": "code",
   "execution_count": 118,
   "id": "86a30025",
   "metadata": {},
   "outputs": [],
   "source": [
    "U, V = np.vectorize(uv_from_xy)(X, Y)"
   ]
  },
  {
   "cell_type": "code",
   "execution_count": 127,
   "id": "1b118614",
   "metadata": {},
   "outputs": [
    {
     "data": {
      "image/png": "[encoded data removed]",
      "text/plain": [
       "<Figure size 640x480 with 1 Axes>"
      ]
     },
     "metadata": {},
     "output_type": "display_data"
    }
   ],
   "source": [
    "fig, ax = plt.subplots()\n",
    "q = ax.quiver(X, Y, U, V, scale=20, )\n",
    "plt.show()"
   ]
  },
  {
   "cell_type": "code",
   "execution_count": null,
   "id": "9bfee4a5",
   "metadata": {},
   "outputs": [],
   "source": []
  }
 ],
 "metadata": {
  "kernelspec": {
   "display_name": "Python 3 (ipykernel)",
   "language": "python",
   "name": "python3"
  },
  "language_info": {
   "codemirror_mode": {
    "name": "ipython",
    "version": 3
   },
   "file_extension": ".py",
   "mimetype": "text/x-python",
   "name": "python",
   "nbconvert_exporter": "python",
   "pygments_lexer": "ipython3",
   "version": "3.9.13"
  }
 },
 "nbformat": 4,
 "nbformat_minor": 5
}
