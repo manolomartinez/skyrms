{
 "cells": [
  {
   "cell_type": "code",
   "execution_count": 560,
   "metadata": {
    "collapsed": false
   },
   "outputs": [
    {
     "data": {
      "text/plain": [
       "<module 'game' from '/home/manolo/Philosophy/Writings/Software/Signal/game.py'>"
      ]
     },
     "execution_count": 560,
     "metadata": {},
     "output_type": "execute_result"
    }
   ],
   "source": [
    "import imp\n",
    "imp.reload(game)"
   ]
  },
  {
   "cell_type": "code",
   "execution_count": 2,
   "metadata": {
    "collapsed": false
   },
   "outputs": [
    {
     "name": "stderr",
     "output_type": "stream",
     "text": [
      "/usr/lib/python3.5/site-packages/matplotlib/__init__.py:872: UserWarning: axes.color_cycle is deprecated and replaced with axes.prop_cycle; please use the latter.\n",
      "  warnings.warn(self.msg_depr % (key, alt_key))\n"
     ]
    }
   ],
   "source": [
    "import game\n",
    "import numpy as np\n",
    "%matplotlib inline\n",
    "import matplotlib.pyplot as plt\n",
    "import itertools as it"
   ]
  },
  {
   "cell_type": "markdown",
   "metadata": {},
   "source": [
    "# 1. Setting things up\n",
    "\n",
    "Let's take a look at `game.py`, which we use to create games. Right now, Signal only does cheap-talk games with a chance player. That is, games in which the state the sender observes is exogenously generated, following a certain probablitiy distribution."
   ]
  },
  {
   "cell_type": "markdown",
   "metadata": {},
   "source": [
    "We first generate payoff matrices for sender and receiver. The cell $c_{ij}$ in the sender (receiver) payoff matrix gives the payoff for the sender (receiver) when act $A_j$ is done in state $S_i$."
   ]
  },
  {
   "cell_type": "code",
   "execution_count": 539,
   "metadata": {
    "collapsed": true
   },
   "outputs": [],
   "source": [
    "sender = np.identity(3)\n",
    "receiver = np.identity(3)\n",
    "state_chances = np.array([1/3, 1/3, 1/3])"
   ]
  },
  {
   "cell_type": "markdown",
   "metadata": {},
   "source": [
    "So, 3 equiprobable (as per state_chances) states and 3 acts (that's why the payoff matrices are square), and sender and receiver get 1 payoff unit when act $A_i$ is performed in state $S_i$, 0 otherwise. That's why both payoff matrices are the identity matrix.\n",
    "\n",
    "What we now need is to decide which strategies will each type in the sender/receiver populations play, and calculate the average payoff for each combination of sender and receiver strategies. `s.Chance` takes care of that:"
   ]
  },
  {
   "cell_type": "code",
   "execution_count": 540,
   "metadata": {
    "collapsed": true
   },
   "outputs": [],
   "source": [
    "simple_game = game.Chance(state_chances, sender, receiver, 3) # The 3 gives the number of available messages"
   ]
  },
  {
   "cell_type": "markdown",
   "metadata": {},
   "source": [
    "One common choice is to have one type in each of the populations for each possible pure strategy available to them:"
   ]
  },
  {
   "cell_type": "code",
   "execution_count": 541,
   "metadata": {
    "collapsed": true
   },
   "outputs": [],
   "source": [
    "sender_strats = simple_game.sender_pure_strats()\n",
    "receiver_strats = simple_game.receiver_pure_strats()\n"
   ]
  },
  {
   "cell_type": "markdown",
   "metadata": {},
   "source": [
    "But this is not the only choice. Conceivably, one might want to add into `sender_strats` a type of senders following a mixed strategy, or ditto for the receiver. One might add such possibilities by hand into the strats arrays, or delete a number of pure strats, or create a strats array from scratch, etc. \n",
    "\n",
    "# Simulating Evolution\n",
    "\n",
    "Once we have the two strats arrays we want, we can create a population game. From here on `game.Evolve` takes over:"
   ]
  },
  {
   "cell_type": "code",
   "execution_count": 542,
   "metadata": {
    "collapsed": false
   },
   "outputs": [],
   "source": [
    "simple_evo = game.Evolve(simple_game, sender_strats, receiver_strats)"
   ]
  },
  {
   "cell_type": "markdown",
   "metadata": {},
   "source": [
    "All right, we can now actually run one of the ODE solvers available in scipy with this object. We create two random population vectors as the initial state, then run, e.g., `scipy.integrate.odeint`. We also need to give a vector of times for which population snapshots will be calculated (other solvers in `scipy.integrate` have a slightly different API):"
   ]
  },
  {
   "cell_type": "code",
   "execution_count": 543,
   "metadata": {
    "collapsed": false
   },
   "outputs": [],
   "source": [
    "sender_init = simple_evo.random_sender()\n",
    "receiver_init = simple_evo.random_receiver()\n",
    "times = np.arange(1000) # times from 0 to 999, at 1 time-unit increments"
   ]
  },
  {
   "cell_type": "markdown",
   "metadata": {},
   "source": [
    "Right now, Signal calculates the two-population replicator(-mutator) dynamics, in continuous or discrete time. It is able to use both `scipy.integrate.odeint` and `scipy.integrate.ode` for this. Let's evolve those two random initial population vectors, following the replicator dynamics in continuous time, using `odeint`:"
   ]
  },
  {
   "cell_type": "code",
   "execution_count": 544,
   "metadata": {
    "collapsed": true
   },
   "outputs": [],
   "source": [
    "results = simple_evo.replicator_odeint(sender_init, receiver_init, times)"
   ]
  },
  {
   "cell_type": "markdown",
   "metadata": {},
   "source": [
    "`results` gives the results of the simulations. If you want the additional output that `odeint` can provide, you can pass the `full_output=True` flag to `replicator_odeint`just as you would to `odeint`. The same goes for other additional input to `odeint`."
   ]
  },
  {
   "cell_type": "code",
   "execution_count": 545,
   "metadata": {
    "collapsed": false
   },
   "outputs": [
    {
     "data": {
      "image/png": "[encoded data removed]",
      "text/plain": [
       "<matplotlib.figure.Figure at 0xaf657f4c>"
      ]
     },
     "metadata": {},
     "output_type": "display_data"
    }
   ],
   "source": [
    "plt.plot(results);"
   ]
  },
  {
   "cell_type": "markdown",
   "metadata": {},
   "source": [
    "This popnulation will no longer evolve. We can now check what it is they are doing in the final state:"
   ]
  },
  {
   "cell_type": "code",
   "execution_count": 546,
   "metadata": {
    "collapsed": false
   },
   "outputs": [
    {
     "name": "stdout",
     "output_type": "stream",
     "text": [
      "[[ 1.  0.  0.]\n",
      " [ 0.  0.  1.]\n",
      " [ 1.  0.  0.]]\n",
      "\n",
      "[[ 1.  0.  0.]\n",
      " [ 0.  1.  0.]\n",
      " [ 0.  1.  0.]]\n"
     ]
    }
   ],
   "source": [
    "sender_final, receiver_final = simple_evo.vector_to_populations(results[-1])\n",
    "# This splits the vector that the solver outputs into two population vectors\n",
    "winning_sender = sender_strats[sender_final.argmax()]\n",
    "winning_receiver = receiver_strats[receiver_final.argmax()]\n",
    "# This gives the strategies with the highest frequency (which we know is 1)\n",
    "# for sender and receiver in the final population state\n",
    "print(\"{}\\n\\n{}\".format(winning_sender, winning_receiver))"
   ]
  },
  {
   "cell_type": "markdown",
   "metadata": {},
   "source": [
    "Sender and receiver are engaged in a signaling system. We can also check directly the mutual info between states and acts in the final snapshot:"
   ]
  },
  {
   "cell_type": "code",
   "execution_count": 18,
   "metadata": {
    "collapsed": false
   },
   "outputs": [
    {
     "ename": "NameError",
     "evalue": "name 'simple_game' is not defined",
     "output_type": "error",
     "traceback": [
      "\u001b[1;31m---------------------------------------------------------------------------\u001b[0m",
      "\u001b[1;31mNameError\u001b[0m                                 Traceback (most recent call last)",
      "\u001b[1;32m<ipython-input-18-4de7f1df09f2>\u001b[0m in \u001b[0;36m<module>\u001b[1;34m()\u001b[0m\n\u001b[0;32m      1\u001b[0m \u001b[1;32mimport\u001b[0m \u001b[0manalyze\u001b[0m\u001b[1;33m\u001b[0m\u001b[0m\n\u001b[1;32m----> 2\u001b[1;33m \u001b[0minfo\u001b[0m \u001b[1;33m=\u001b[0m \u001b[0manalyze\u001b[0m\u001b[1;33m.\u001b[0m\u001b[0mInformation\u001b[0m\u001b[1;33m(\u001b[0m\u001b[0msimple_game\u001b[0m\u001b[1;33m,\u001b[0m \u001b[0mwinning_sender\u001b[0m\u001b[1;33m,\u001b[0m \u001b[0mwinning_receiver\u001b[0m\u001b[1;33m)\u001b[0m\u001b[1;33m\u001b[0m\u001b[0m\n\u001b[0m\u001b[0;32m      3\u001b[0m \u001b[0minfo\u001b[0m\u001b[1;33m.\u001b[0m\u001b[0mmutual_info_states_acts\u001b[0m\u001b[1;33m(\u001b[0m\u001b[1;33m)\u001b[0m\u001b[1;33m\u001b[0m\u001b[0m\n",
      "\u001b[1;31mNameError\u001b[0m: name 'simple_game' is not defined"
     ]
    }
   ],
   "source": [
    "import analyze\n",
    "info = analyze.Information(simple_game, winning_sender, winning_receiver)\n",
    "info.mutual_info_states_acts()"
   ]
  },
  {
   "cell_type": "markdown",
   "metadata": {},
   "source": [
    "1.58 (that is, log2(3)) bits is the entropy of states, which is fully recovered in the mutual information between states and act: a signaling system, as expected.\n",
    "\n",
    "But we know that a small proportion of random starting points in the \"simple game\" do not evolve to signaling systems. This percentage, according to Huttegger et al. (2010, p. 183) is about 4.7%. Let's replicate their result."
   ]
  },
  {
   "cell_type": "code",
   "execution_count": 557,
   "metadata": {
    "collapsed": false
   },
   "outputs": [],
   "source": [
    "final_info = []\n",
    "for i in range(1000):\n",
    "    sender_init = simple_evo.random_sender()\n",
    "    receiver_init = simple_evo.random_receiver()\n",
    "    data = simple_evo.replicator_odeint(sender_init, receiver_init, times)\n",
    "    sender_final, receiver_final = simple_evo.vector_to_populations(data[-1])\n",
    "    sender_final_info = simple_evo.sender_to_mixed_strat(sender_final)\n",
    "    receiver_final_info = simple_evo.receiver_to_mixed_strat(receiver_final)\n",
    "    info = analyze.Information(simple_game, sender_final_info, receiver_final_info)\n",
    "    final_info.append(info.mutual_info_states_acts())"
   ]
  },
  {
   "cell_type": "markdown",
   "metadata": {},
   "source": [
    "We have now the mutual info between states and acts at 1000 end points:"
   ]
  },
  {
   "cell_type": "markdown",
   "metadata": {
    "collapsed": true
   },
   "source": [
    "As the plot shows, there are no intermediate values between signaling systems (at 1.58 bits) and the partially pooling configuration at 0.9 bits. So, to calculate the proportion of pooling equilibria, we can look at just that."
   ]
  },
  {
   "cell_type": "code",
   "execution_count": 558,
   "metadata": {
    "collapsed": false
   },
   "outputs": [
    {
     "data": {
      "image/png": "[encoded data removed]",
      "text/plain": [
       "<matplotlib.figure.Figure at 0xaf7fef6c>"
      ]
     },
     "metadata": {},
     "output_type": "display_data"
    }
   ],
   "source": [
    "plt.plot(final_info);"
   ]
  },
  {
   "cell_type": "code",
   "execution_count": 559,
   "metadata": {
    "collapsed": false
   },
   "outputs": [
    {
     "data": {
      "text/plain": [
       "0.057000000000000002"
      ]
     },
     "execution_count": 559,
     "metadata": {},
     "output_type": "execute_result"
    }
   ],
   "source": [
    "sum(np.array(final_info) < 1.58)/1000"
   ]
  },
  {
   "cell_type": "markdown",
   "metadata": {},
   "source": [
    "Close enough!\n",
    "\n",
    "# Games without chance player\n",
    "\n",
    "Let's now work with a game in which the sender has an endogenously generated state. I.e., a sender type will now be individuated by a state together with a probability vector over the set of messages. Receivers are as in the games with chance player discussed above:"
   ]
  },
  {
   "cell_type": "code",
   "execution_count": 19,
   "metadata": {
    "collapsed": false
   },
   "outputs": [
    {
     "data": {
      "text/plain": [
       "<module 'analyze' from '/home/manolo/Philosophy/Writings/Software/Signal/analyze.py'>"
      ]
     },
     "execution_count": 19,
     "metadata": {},
     "output_type": "execute_result"
    }
   ],
   "source": [
    "import imp\n",
    "imp.reload(game)\n",
    "imp.reload(analyze)"
   ]
  },
  {
   "cell_type": "code",
   "execution_count": 20,
   "metadata": {
    "collapsed": true
   },
   "outputs": [],
   "source": [
    "sender = np.identity(3)\n",
    "receiver = np.identity(3)"
   ]
  },
  {
   "cell_type": "code",
   "execution_count": 21,
   "metadata": {
    "collapsed": true
   },
   "outputs": [],
   "source": [
    "simple_nonchance = game.NonChance(sender, receiver, 3)"
   ]
  },
  {
   "cell_type": "code",
   "execution_count": 22,
   "metadata": {
    "collapsed": false
   },
   "outputs": [],
   "source": [
    "sender_strats = simple_nonchance.sender_pure_strats()\n",
    "receiver_strats = simple_nonchance.receiver_pure_strats()"
   ]
  },
  {
   "cell_type": "code",
   "execution_count": 23,
   "metadata": {
    "collapsed": false
   },
   "outputs": [],
   "source": [
    "avgpayoff = simple_nonchance.avg_payoffs(sender_strats, receiver_strats)"
   ]
  },
  {
   "cell_type": "code",
   "execution_count": 24,
   "metadata": {
    "collapsed": false
   },
   "outputs": [],
   "source": [
    "nc_evolve = game.Evolve(simple_nonchance, sender_strats, receiver_strats)"
   ]
  },
  {
   "cell_type": "code",
   "execution_count": 25,
   "metadata": {
    "collapsed": false
   },
   "outputs": [],
   "source": [
    "sender_init = nc_evolve.random_sender()\n",
    "receiver_init = nc_evolve.random_receiver()\n",
    "times = np.arange(1000)"
   ]
  },
  {
   "cell_type": "code",
   "execution_count": 26,
   "metadata": {
    "collapsed": false
   },
   "outputs": [],
   "source": [
    "results = nc_evolve.replicator_odeint(sender_init, receiver_init, times)"
   ]
  },
  {
   "cell_type": "code",
   "execution_count": 27,
   "metadata": {
    "collapsed": false
   },
   "outputs": [
    {
     "data": {
      "image/png": "[encoded data removed]",
      "text/plain": [
       "<matplotlib.figure.Figure at 0xaf1c6a6c>"
      ]
     },
     "metadata": {},
     "output_type": "display_data"
    }
   ],
   "source": [
    "plt.plot(results);"
   ]
  },
  {
   "cell_type": "code",
   "execution_count": 28,
   "metadata": {
    "collapsed": false
   },
   "outputs": [
    {
     "name": "stdout",
     "output_type": "stream",
     "text": [
      "[[  7.0798e-13   5.4881e-12   5.6323e-01]\n",
      " [  2.3108e-12   5.6894e-08   3.6256e-12]\n",
      " [  4.3677e-01   1.1729e-12   7.6895e-13]]\n",
      "\n",
      "[[  9.6013e-12   4.5485e-12   1.0000e+00]\n",
      " [  7.8544e-04   9.8758e-01   1.1634e-02]\n",
      " [  1.0000e+00   9.5805e-12   4.5693e-12]]\n"
     ]
    }
   ],
   "source": [
    "sender_final, receiver_final = nc_evolve.vector_to_populations(results[-1])\n",
    "# This splits the vector that the solver outputs into two population vectors\n",
    "sender_final_strat = nc_evolve.sender_to_mixed_strat(sender_final)\n",
    "receiver_final_strat = nc_evolve.receiver_to_mixed_strat(receiver_final)\n",
    "print(\"{}\\n\\n{}\".format(sender_final_strat, receiver_final_strat))"
   ]
  },
  {
   "cell_type": "code",
   "execution_count": 32,
   "metadata": {
    "collapsed": false
   },
   "outputs": [],
   "source": [
    "ci = analyze.CommonInterest(simple_nonchance)"
   ]
  },
  {
   "cell_type": "code",
   "execution_count": 35,
   "metadata": {
    "collapsed": false
   },
   "outputs": [
    {
     "ename": "ChanceNodeError",
     "evalue": "This is not a chance-node game.",
     "output_type": "error",
     "traceback": [
      "\u001b[1;31m---------------------------------------------------------------------------\u001b[0m",
      "\u001b[1;31mChanceNodeError\u001b[0m                           Traceback (most recent call last)",
      "\u001b[1;32m<ipython-input-35-0176b3f2cf42>\u001b[0m in \u001b[0;36m<module>\u001b[1;34m()\u001b[0m\n\u001b[1;32m----> 1\u001b[1;33m \u001b[0mci\u001b[0m\u001b[1;33m.\u001b[0m\u001b[0mC_chance\u001b[0m\u001b[1;33m(\u001b[0m\u001b[1;33m)\u001b[0m\u001b[1;33m\u001b[0m\u001b[0m\n\u001b[0m",
      "\u001b[1;32m/home/manolo/Philosophy/Writings/Software/Signal/analyze.py\u001b[0m in \u001b[0;36mC_chance\u001b[1;34m(self)\u001b[0m\n\u001b[0;32m    156\u001b[0m         \"\"\"\n\u001b[0;32m    157\u001b[0m         \u001b[1;32mif\u001b[0m \u001b[1;32mnot\u001b[0m \u001b[0mself\u001b[0m\u001b[1;33m.\u001b[0m\u001b[0mchance_node\u001b[0m\u001b[1;33m:\u001b[0m\u001b[1;33m\u001b[0m\u001b[0m\n\u001b[1;32m--> 158\u001b[1;33m             \u001b[1;32mraise\u001b[0m \u001b[0mexceptions\u001b[0m\u001b[1;33m.\u001b[0m\u001b[0mChanceNodeError\u001b[0m\u001b[1;33m(\u001b[0m\u001b[1;34m\"This is not a chance-node game.\"\u001b[0m\u001b[1;33m)\u001b[0m\u001b[1;33m\u001b[0m\u001b[0m\n\u001b[0m\u001b[0;32m    159\u001b[0m         \u001b[1;32mreturn\u001b[0m \u001b[0mtau_per_rows\u001b[0m\u001b[1;33m(\u001b[0m\u001b[0mself\u001b[0m\u001b[1;33m.\u001b[0m\u001b[0mstate_chances\u001b[0m\u001b[1;33m,\u001b[0m \u001b[0mself\u001b[0m\u001b[1;33m.\u001b[0m\u001b[0msender\u001b[0m\u001b[1;33m,\u001b[0m \u001b[0mself\u001b[0m\u001b[1;33m.\u001b[0m\u001b[0mreceiver\u001b[0m\u001b[1;33m)\u001b[0m\u001b[1;33m\u001b[0m\u001b[0m\n\u001b[0;32m    160\u001b[0m \u001b[1;33m\u001b[0m\u001b[0m\n",
      "\u001b[1;31mChanceNodeError\u001b[0m: This is not a chance-node game."
     ]
    }
   ],
   "source": [
    "ci.C_chance()"
   ]
  },
  {
   "cell_type": "code",
   "execution_count": 440,
   "metadata": {
    "collapsed": false
   },
   "outputs": [
    {
     "data": {
      "text/plain": [
       "array([ 0.,  1.,  0.])"
      ]
     },
     "execution_count": 440,
     "metadata": {},
     "output_type": "execute_result"
    }
   ],
   "source": [
    "simple_nonchance.sender_payoff_matrix.dot(receiver_for_sender)"
   ]
  },
  {
   "cell_type": "code",
   "execution_count": 400,
   "metadata": {
    "collapsed": false
   },
   "outputs": [],
   "source": [
    "payoffs = np.arange(9).reshape(3,3)"
   ]
  },
  {
   "cell_type": "code",
   "execution_count": 401,
   "metadata": {
    "collapsed": false
   },
   "outputs": [
    {
     "data": {
      "text/plain": [
       "array([[0, 1, 2],\n",
       "       [3, 4, 5],\n",
       "       [6, 7, 8]])"
      ]
     },
     "execution_count": 401,
     "metadata": {},
     "output_type": "execute_result"
    }
   ],
   "source": [
    "payoffs"
   ]
  },
  {
   "cell_type": "code",
   "execution_count": 410,
   "metadata": {
    "collapsed": false
   },
   "outputs": [
    {
     "data": {
      "text/plain": [
       "array([[ 0.    ],\n",
       "       [ 4.3333],\n",
       "       [ 0.    ]])"
      ]
     },
     "execution_count": 410,
     "metadata": {},
     "output_type": "execute_result"
    }
   ],
   "source": [
    "senderstrat[0][:, None] * payoffs.dot(np.array([1/3, 0, 2/3])[:, None])"
   ]
  },
  {
   "cell_type": "code",
   "execution_count": 554,
   "metadata": {
    "collapsed": false
   },
   "outputs": [
    {
     "data": {
      "text/plain": [
       "array([[  7.0854e-89,   1.0000e+00,   5.4050e-87],\n",
       "       [  1.0000e+00,   4.7875e-89,   3.2510e-89],\n",
       "       [  4.4606e-88,   4.1588e-86,   1.0000e+00]])"
      ]
     },
     "execution_count": 554,
     "metadata": {},
     "output_type": "execute_result"
    }
   ],
   "source": [
    "simple_evo.sender_to_mixed_strat(receiver_final)"
   ]
  },
  {
   "cell_type": "code",
   "execution_count": 555,
   "metadata": {
    "collapsed": false
   },
   "outputs": [
    {
     "data": {
      "text/plain": [
       "[1.5849625007211561,\n",
       " 1.5849625007211561,\n",
       " 1.5849625007211561,\n",
       " 1.5849625007211561,\n",
       " 1.5849625007211561,\n",
       " 1.5849625007211561,\n",
       " 1.5849625007211561,\n",
       " 1.5849625007211561,\n",
       " 1.5849625007211561,\n",
       " 1.5849625007211561]"
      ]
     },
     "execution_count": 555,
     "metadata": {},
     "output_type": "execute_result"
    }
   ],
   "source": [
    "final_info"
   ]
  },
  {
   "cell_type": "code",
   "execution_count": null,
   "metadata": {
    "collapsed": true
   },
   "outputs": [],
   "source": []
  }
 ],
 "metadata": {
  "kernelspec": {
   "display_name": "Python 3",
   "language": "python",
   "name": "python3"
  },
  "language_info": {
   "codemirror_mode": {
    "name": "ipython",
    "version": 3
   },
   "file_extension": ".py",
   "mimetype": "text/x-python",
   "name": "python",
   "nbconvert_exporter": "python",
   "pygments_lexer": "ipython3",
   "version": "3.5.0"
  }
 },
 "nbformat": 4,
 "nbformat_minor": 0
}
